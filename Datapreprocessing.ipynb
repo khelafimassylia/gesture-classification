{
 "cells": [
  {
   "cell_type": "markdown",
   "metadata": {},
   "source": [
    "## LIBRARIES"
   ]
  },
  {
   "cell_type": "code",
   "execution_count": 2,
   "metadata": {},
   "outputs": [],
   "source": [
    "import random\n",
    "\n",
    "import numpy as np\n",
    "import pandas as pd\n",
    "import matplotlib.pyplot as plt\n",
    "\n",
    "import scipy.io\n",
    "import scipy\n",
    "from scipy import signal\n"
   ]
  },
  {
   "cell_type": "markdown",
   "metadata": {},
   "source": [
    "## LOADING THE DATA"
   ]
  },
  {
   "cell_type": "code",
   "execution_count": 4,
   "metadata": {},
   "outputs": [],
   "source": [
    "\"\"\" Define schema of datasets\n",
    "\"\"\"\n",
    "\n",
    "DATABASE = {\n",
    "    'Database 1': ['female_1',\n",
    "                  'female_2',\n",
    "                  'female_3',\n",
    "                  'male_1',\n",
    "                  'male_2'],\n",
    "    'Database 2': ['male_day_1',\n",
    "                  'male_day_2',\n",
    "                  'male_day_3']\n",
    "}\n",
    "\n",
    "COLUMNS = ['cyl_ch1', \n",
    "            'cyl_ch2', \n",
    "            'hook_ch1', \n",
    "            'hook_ch2', \n",
    "            'tip_ch1', \n",
    "            'tip_ch2', \n",
    "            'palm_ch1', \n",
    "            'palm_ch2', \n",
    "            'spher_ch1', \n",
    "            'spher_ch2', \n",
    "            'lat_ch1', \n",
    "            'lat_ch2']\n",
    "\n",
    "LABELS = [\n",
    "    'Spherical',\n",
    "    'Tip',\n",
    "    'Palmar',\n",
    "    'Lateral',\n",
    "    'Cylindrical',\n",
    "    'Hook'\n",
    "]\n",
    "\n",
    "COL_MAPPINGS = {\n",
    "            'cyl_ch1': 'Cylindrical', \n",
    "            'cyl_ch2': 'Cylindrical', \n",
    "            'hook_ch1': 'Hook', \n",
    "            'hook_ch2': 'Hook', \n",
    "            'tip_ch1': 'Tip', \n",
    "            'tip_ch2': 'Tip', \n",
    "            'palm_ch1': 'Palmar', \n",
    "            'palm_ch2': 'Palmar', \n",
    "            'spher_ch1': 'Spherical', \n",
    "            'spher_ch2': 'Spherical', \n",
    "            'lat_ch1': 'Lateral', \n",
    "            'lat_ch2': 'Lateral'\n",
    "}"
   ]
  },
  {
   "cell_type": "code",
   "execution_count": 13,
   "metadata": {},
   "outputs": [],
   "source": [
    "\"\"\" Preprocess and standardize dataset into a single dataframe table\n",
    "\"\"\"\n",
    "\n",
    "DB_NAME = 'Database 1'\n",
    "dfs = []\n",
    "for fname in DATABASE[DB_NAME]: \n",
    "    tmp_data = scipy.io.loadmat(f'./data/{DB_NAME}/{fname}')\n",
    "    tmp_data = {k:v for k,v in tmp_data.items() if k in COLUMNS}\n",
    "    for c in COLUMNS:\n",
    "        tmp_dfx = pd.DataFrame(tmp_data[c])\n",
    "        tmp_dfx['identifier'] = fname\n",
    "        tmp_dfx['label'] = COL_MAPPINGS[c]\n",
    "        dfs.append(pd.DataFrame(tmp_dfx))\n",
    "\n",
    "        \n",
    "dataset_ = pd.concat(dfs)\n",
    "\n",
    "#combine coupled readouts\n",
    "new_dfs = []\n",
    "for lab in LABELS:\n",
    "    new_temp = dataset_[dataset_['label'] == lab].values\n",
    "    new_temp_comb = pd.DataFrame(np.concatenate((new_temp[:150,:3000],new_temp[150:,:3002]),axis=1))\n",
    "    new_dfs.append(new_temp_comb)\n",
    "\n",
    "dataset = pd.concat(new_dfs)\n",
    "dataset.rename(columns={6001:'label', 6000:'identifier'}, inplace=True)\n",
    "dataset.head()\n",
    "\n",
    "df_features = dataset.iloc[:,:6000].copy()\n",
    "df_labels = dataset.iloc[:, 6001]"
   ]
  },
  {
   "cell_type": "markdown",
   "metadata": {},
   "source": [
    "let's have a look at the datset :"
   ]
  },
  {
   "cell_type": "code",
   "execution_count": 6,
   "metadata": {},
   "outputs": [
    {
     "data": {
      "text/html": [
       "<div>\n",
       "<style scoped>\n",
       "    .dataframe tbody tr th:only-of-type {\n",
       "        vertical-align: middle;\n",
       "    }\n",
       "\n",
       "    .dataframe tbody tr th {\n",
       "        vertical-align: top;\n",
       "    }\n",
       "\n",
       "    .dataframe thead th {\n",
       "        text-align: right;\n",
       "    }\n",
       "</style>\n",
       "<table border=\"1\" class=\"dataframe\">\n",
       "  <thead>\n",
       "    <tr style=\"text-align: right;\">\n",
       "      <th></th>\n",
       "      <th>0</th>\n",
       "      <th>1</th>\n",
       "      <th>2</th>\n",
       "      <th>3</th>\n",
       "      <th>4</th>\n",
       "      <th>5</th>\n",
       "      <th>6</th>\n",
       "      <th>7</th>\n",
       "      <th>8</th>\n",
       "      <th>9</th>\n",
       "      <th>...</th>\n",
       "      <th>5992</th>\n",
       "      <th>5993</th>\n",
       "      <th>5994</th>\n",
       "      <th>5995</th>\n",
       "      <th>5996</th>\n",
       "      <th>5997</th>\n",
       "      <th>5998</th>\n",
       "      <th>5999</th>\n",
       "      <th>identifier</th>\n",
       "      <th>label</th>\n",
       "    </tr>\n",
       "  </thead>\n",
       "  <tbody>\n",
       "    <tr>\n",
       "      <th>0</th>\n",
       "      <td>0.505726</td>\n",
       "      <td>0.531228</td>\n",
       "      <td>0.505726</td>\n",
       "      <td>0.021195</td>\n",
       "      <td>0.046696</td>\n",
       "      <td>-0.080812</td>\n",
       "      <td>0.021195</td>\n",
       "      <td>0.021195</td>\n",
       "      <td>0.123201</td>\n",
       "      <td>0.199706</td>\n",
       "      <td>...</td>\n",
       "      <td>0.227693</td>\n",
       "      <td>0.049139</td>\n",
       "      <td>-0.30797</td>\n",
       "      <td>-0.103908</td>\n",
       "      <td>0.100154</td>\n",
       "      <td>0.15117</td>\n",
       "      <td>-0.614063</td>\n",
       "      <td>-0.358985</td>\n",
       "      <td>female_3</td>\n",
       "      <td>Spherical</td>\n",
       "    </tr>\n",
       "    <tr>\n",
       "      <th>1</th>\n",
       "      <td>0.454723</td>\n",
       "      <td>0.174205</td>\n",
       "      <td>-0.182818</td>\n",
       "      <td>-0.386831</td>\n",
       "      <td>0.709739</td>\n",
       "      <td>0.633234</td>\n",
       "      <td>-0.029808</td>\n",
       "      <td>-0.20832</td>\n",
       "      <td>0.0977</td>\n",
       "      <td>0.582231</td>\n",
       "      <td>...</td>\n",
       "      <td>-0.333478</td>\n",
       "      <td>0.100154</td>\n",
       "      <td>0.71234</td>\n",
       "      <td>0.610309</td>\n",
       "      <td>0.559294</td>\n",
       "      <td>-0.410001</td>\n",
       "      <td>0.253201</td>\n",
       "      <td>-0.052892</td>\n",
       "      <td>female_3</td>\n",
       "      <td>Spherical</td>\n",
       "    </tr>\n",
       "    <tr>\n",
       "      <th>2</th>\n",
       "      <td>1.245273</td>\n",
       "      <td>0.123201</td>\n",
       "      <td>-2.273952</td>\n",
       "      <td>-2.936995</td>\n",
       "      <td>-0.335828</td>\n",
       "      <td>1.50029</td>\n",
       "      <td>1.398283</td>\n",
       "      <td>2.163332</td>\n",
       "      <td>0.403719</td>\n",
       "      <td>-0.131815</td>\n",
       "      <td>...</td>\n",
       "      <td>0.253201</td>\n",
       "      <td>-0.486524</td>\n",
       "      <td>-0.231447</td>\n",
       "      <td>-0.30797</td>\n",
       "      <td>0.100154</td>\n",
       "      <td>0.865386</td>\n",
       "      <td>0.635817</td>\n",
       "      <td>0.15117</td>\n",
       "      <td>female_3</td>\n",
       "      <td>Spherical</td>\n",
       "    </tr>\n",
       "    <tr>\n",
       "      <th>3</th>\n",
       "      <td>-0.080812</td>\n",
       "      <td>-0.182818</td>\n",
       "      <td>0.0977</td>\n",
       "      <td>0.123201</td>\n",
       "      <td>0.276211</td>\n",
       "      <td>0.352716</td>\n",
       "      <td>0.25071</td>\n",
       "      <td>0.199706</td>\n",
       "      <td>0.0977</td>\n",
       "      <td>-0.080812</td>\n",
       "      <td>...</td>\n",
       "      <td>0.227693</td>\n",
       "      <td>-0.818125</td>\n",
       "      <td>-0.052892</td>\n",
       "      <td>0.431755</td>\n",
       "      <td>0.457263</td>\n",
       "      <td>0.304216</td>\n",
       "      <td>0.125662</td>\n",
       "      <td>0.304216</td>\n",
       "      <td>female_3</td>\n",
       "      <td>Spherical</td>\n",
       "    </tr>\n",
       "    <tr>\n",
       "      <th>4</th>\n",
       "      <td>0.480224</td>\n",
       "      <td>0.021195</td>\n",
       "      <td>0.429221</td>\n",
       "      <td>0.021195</td>\n",
       "      <td>-0.004307</td>\n",
       "      <td>-0.106313</td>\n",
       "      <td>0.199706</td>\n",
       "      <td>0.199706</td>\n",
       "      <td>0.301713</td>\n",
       "      <td>0.276211</td>\n",
       "      <td>...</td>\n",
       "      <td>-0.103908</td>\n",
       "      <td>-1.124218</td>\n",
       "      <td>0.278708</td>\n",
       "      <td>0.94191</td>\n",
       "      <td>0.686832</td>\n",
       "      <td>0.023631</td>\n",
       "      <td>-1.124218</td>\n",
       "      <td>-0.333478</td>\n",
       "      <td>female_3</td>\n",
       "      <td>Spherical</td>\n",
       "    </tr>\n",
       "  </tbody>\n",
       "</table>\n",
       "<p>5 rows × 6002 columns</p>\n",
       "</div>"
      ],
      "text/plain": [
       "          0         1         2         3         4         5         6  \\\n",
       "0  0.505726  0.531228  0.505726  0.021195  0.046696 -0.080812  0.021195   \n",
       "1  0.454723  0.174205 -0.182818 -0.386831  0.709739  0.633234 -0.029808   \n",
       "2  1.245273  0.123201 -2.273952 -2.936995 -0.335828   1.50029  1.398283   \n",
       "3 -0.080812 -0.182818    0.0977  0.123201  0.276211  0.352716   0.25071   \n",
       "4  0.480224  0.021195  0.429221  0.021195 -0.004307 -0.106313  0.199706   \n",
       "\n",
       "          7         8         9  ...      5992      5993      5994      5995  \\\n",
       "0  0.021195  0.123201  0.199706  ...  0.227693  0.049139  -0.30797 -0.103908   \n",
       "1  -0.20832    0.0977  0.582231  ... -0.333478  0.100154   0.71234  0.610309   \n",
       "2  2.163332  0.403719 -0.131815  ...  0.253201 -0.486524 -0.231447  -0.30797   \n",
       "3  0.199706    0.0977 -0.080812  ...  0.227693 -0.818125 -0.052892  0.431755   \n",
       "4  0.199706  0.301713  0.276211  ... -0.103908 -1.124218  0.278708   0.94191   \n",
       "\n",
       "       5996      5997      5998      5999 identifier      label  \n",
       "0  0.100154   0.15117 -0.614063 -0.358985   female_3  Spherical  \n",
       "1  0.559294 -0.410001  0.253201 -0.052892   female_3  Spherical  \n",
       "2  0.100154  0.865386  0.635817   0.15117   female_3  Spherical  \n",
       "3  0.457263  0.304216  0.125662  0.304216   female_3  Spherical  \n",
       "4  0.686832  0.023631 -1.124218 -0.333478   female_3  Spherical  \n",
       "\n",
       "[5 rows x 6002 columns]"
      ]
     },
     "execution_count": 6,
     "metadata": {},
     "output_type": "execute_result"
    }
   ],
   "source": [
    "dataset.head()"
   ]
  },
  {
   "cell_type": "code",
   "execution_count": 24,
   "metadata": {},
   "outputs": [],
   "source": [
    "data=dataset.to_csv('data.csv',index=False)"
   ]
  },
  {
   "cell_type": "markdown",
   "metadata": {},
   "source": [
    "## Preprocessing the Data"
   ]
  },
  {
   "cell_type": "code",
   "execution_count": 8,
   "metadata": {},
   "outputs": [],
   "source": [
    "from utilitis import *"
   ]
  },
  {
   "cell_type": "markdown",
   "metadata": {},
   "source": [
    "To process the raw data, there are a few techniques to help clean up the data. Firstly, since this is a signal taking the absolute value is a reasonable way to reduce the variability and nosie in the data. Furthermore, smoothing the curve is also an effective way of reducing noise. The butterworth low pass filter is commonly used for signal processsing but a more general method is exponential smoothing (in this case Holt-Winters). "
   ]
  },
  {
   "cell_type": "code",
   "execution_count": 27,
   "metadata": {},
   "outputs": [],
   "source": [
    "df_abs = abs_val_filter(df_features)\n",
    "#df_holt = holt_smoothing(df_abs.to_numpy(), s_level = 0.03, s_slope = 0.02)\n",
    "df_butter = butterworth_low_pass_filter(df_abs.to_numpy(), frequency=5000, lp_filter=25, order=5)"
   ]
  },
  {
   "cell_type": "code",
   "execution_count": 28,
   "metadata": {},
   "outputs": [
    {
     "data": {
      "text/plain": [
       "(6000,)"
      ]
     },
     "execution_count": 28,
     "metadata": {},
     "output_type": "execute_result"
    }
   ],
   "source": [
    "df_butter[0].shape"
   ]
  },
  {
   "cell_type": "code",
   "execution_count": 29,
   "metadata": {},
   "outputs": [
    {
     "data": {
      "image/png": "[encoded data removed]",
      "text/plain": [
       "<Figure size 1080x720 with 1 Axes>"
      ]
     },
     "metadata": {
      "needs_background": "light"
     },
     "output_type": "display_data"
    }
   ],
   "source": [
    "fig = plt.figure(figsize=(15,10))\n",
    "plt.plot(df_abs.to_numpy()[0], label='Absolute Value')\n",
    "#plt.plot(df_holt[0], label='Holt Smoothing')\n",
    "plt.plot(df_butter[0], label='Butterworth Smoothing')\n",
    "plt.legend(loc=\"upper right\")\n",
    "plt.xlabel(\"Features\")\n",
    "plt.ylabel(\"sEMG reading (V)\")\n",
    "plt.show()"
   ]
  },
  {
   "cell_type": "markdown",
   "metadata": {},
   "source": [
    "At a glance we can see just how noisy the raw data is. The Holt-Winters smoothing does a good job of reducing the noise, whereas the Butterworth filter creates a very smooth curve that matches the Holt-Winters curve very well. We can perform the classification datasets on each of these models, but, \n",
    "in order to reduce the number of models that are being run, we will just move forward with the butterworth_low_pass_filter smoothed data. "
   ]
  },
  {
   "cell_type": "markdown",
   "metadata": {},
   "source": [
    "Now that the dataset is constructed the way we want it (6000 features + two columns one for the identifier and the other for the label), and preprocessed it using filters , We will now  save it in a csv format in a file called :   `dataset_processed.csv` "
   ]
  },
  {
   "cell_type": "code",
   "execution_count": 12,
   "metadata": {},
   "outputs": [],
   "source": [
    "df_butter=pd.DataFrame(df_butter)\n",
    "df_butter.to_csv('dataset_processed.csv',index = False)"
   ]
  }
 ],
 "metadata": {
  "kernelspec": {
   "display_name": "Python 3.10.5 64-bit",
   "language": "python",
   "name": "python3"
  },
  "language_info": {
   "codemirror_mode": {
    "name": "ipython",
    "version": 3
   },
   "file_extension": ".py",
   "mimetype": "text/x-python",
   "name": "python",
   "nbconvert_exporter": "python",
   "pygments_lexer": "ipython3",
   "version": "3.10.5"
  },
  "orig_nbformat": 4,
  "vscode": {
   "interpreter": {
    "hash": "369f2c481f4da34e4445cda3fffd2e751bd1c4d706f27375911949ba6bb62e1c"
   }
  }
 },
 "nbformat": 4,
 "nbformat_minor": 2
}
